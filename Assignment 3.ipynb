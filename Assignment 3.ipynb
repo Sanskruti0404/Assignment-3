{
 "cells": [
  {
   "cell_type": "markdown",
   "id": "81d5addb-4ad3-4999-b8c0-df7dca1e0274",
   "metadata": {},
   "source": [
    "## Assignment 3\n"
   ]
  },
  {
   "cell_type": "markdown",
   "id": "31739d24-32bd-4ba0-bc0d-b2dce406c99f",
   "metadata": {},
   "source": [
    "## Q1\n",
    "Def keyword is used to create a function ."
   ]
  },
  {
   "cell_type": "code",
   "execution_count": 1,
   "id": "ef7f7ba3-f9f7-469b-8f7a-c2a342d38102",
   "metadata": {},
   "outputs": [],
   "source": [
    "l = [1,2,3,4,5,6,7,8,9]\n",
    "     "
   ]
  },
  {
   "cell_type": "code",
   "execution_count": 2,
   "id": "b0d4a6cf-9ecf-4f7c-a111-8f583dd403a7",
   "metadata": {},
   "outputs": [],
   "source": [
    "# Create a function to return a list of odd numbers in the range of 1 to 25 .\n",
    "\n",
    "def odd_num ( num ):\n",
    "  if num % 2 == 1:\n",
    "    return 'odd'\n",
    "  else:\n",
    "    return'even'"
   ]
  },
  {
   "cell_type": "code",
   "execution_count": 3,
   "id": "0489a6bc-8c49-4c30-906b-214bbca0f3e0",
   "metadata": {},
   "outputs": [
    {
     "name": "stdout",
     "output_type": "stream",
     "text": [
      "odd\n",
      "even\n",
      "odd\n",
      "even\n",
      "odd\n",
      "even\n",
      "odd\n",
      "even\n",
      "odd\n",
      "even\n",
      "odd\n",
      "even\n",
      "odd\n",
      "even\n",
      "odd\n",
      "even\n",
      "odd\n",
      "even\n",
      "odd\n",
      "even\n",
      "odd\n",
      "even\n",
      "odd\n",
      "even\n"
     ]
    }
   ],
   "source": [
    "for i in range (1,25):\n",
    "  x = odd_num(i)\n",
    "  print(x)"
   ]
  },
  {
   "cell_type": "markdown",
   "id": "006830dd-c733-4c22-8987-ad3cffa861c2",
   "metadata": {},
   "source": [
    "## Q2\n",
    "*args and **kwargs are special Python keywords that are used to pass the variable length of arguments to a function"
   ]
  },
  {
   "cell_type": "code",
   "execution_count": 12,
   "id": "6a9d8091-43c2-4db1-aaad-66e343263758",
   "metadata": {},
   "outputs": [],
   "source": [
    "# *args\n",
    "# allows us to pass a variable number of non-keyword arguments to a function.\n",
    "\n",
    "def multiply(*args):\n",
    "  product = 1\n",
    "\n",
    "  for i in kwargs:\n",
    "    product = product * i\n",
    "\n",
    "  print(kwargs)\n",
    "  return product"
   ]
  },
  {
   "cell_type": "code",
   "execution_count": 13,
   "id": "12f0f28e-7557-456f-ae4c-0d458ccf30fa",
   "metadata": {},
   "outputs": [
    {
     "ename": "NameError",
     "evalue": "name 'kwargs' is not defined",
     "output_type": "error",
     "traceback": [
      "\u001b[0;31m---------------------------------------------------------------------------\u001b[0m",
      "\u001b[0;31mNameError\u001b[0m                                 Traceback (most recent call last)",
      "Cell \u001b[0;32mIn[13], line 1\u001b[0m\n\u001b[0;32m----> 1\u001b[0m \u001b[43mmultiply\u001b[49m\u001b[43m(\u001b[49m\u001b[38;5;241;43m1\u001b[39;49m\u001b[43m,\u001b[49m\u001b[38;5;241;43m2\u001b[39;49m\u001b[43m,\u001b[49m\u001b[38;5;241;43m3\u001b[39;49m\u001b[43m,\u001b[49m\u001b[38;5;241;43m4\u001b[39;49m\u001b[43m,\u001b[49m\u001b[38;5;241;43m5\u001b[39;49m\u001b[43m,\u001b[49m\u001b[38;5;241;43m6\u001b[39;49m\u001b[43m,\u001b[49m\u001b[38;5;241;43m7\u001b[39;49m\u001b[43m,\u001b[49m\u001b[38;5;241;43m8\u001b[39;49m\u001b[43m,\u001b[49m\u001b[38;5;241;43m9\u001b[39;49m\u001b[43m,\u001b[49m\u001b[38;5;241;43m10\u001b[39;49m\u001b[43m,\u001b[49m\u001b[38;5;241;43m12\u001b[39;49m\u001b[43m)\u001b[49m\n",
      "Cell \u001b[0;32mIn[12], line 7\u001b[0m, in \u001b[0;36mmultiply\u001b[0;34m(*args)\u001b[0m\n\u001b[1;32m      4\u001b[0m \u001b[38;5;28;01mdef\u001b[39;00m \u001b[38;5;21mmultiply\u001b[39m(\u001b[38;5;241m*\u001b[39margs):\n\u001b[1;32m      5\u001b[0m   product \u001b[38;5;241m=\u001b[39m \u001b[38;5;241m1\u001b[39m\n\u001b[0;32m----> 7\u001b[0m   \u001b[38;5;28;01mfor\u001b[39;00m i \u001b[38;5;129;01min\u001b[39;00m \u001b[43mkwargs\u001b[49m:\n\u001b[1;32m      8\u001b[0m     product \u001b[38;5;241m=\u001b[39m product \u001b[38;5;241m*\u001b[39m i\n\u001b[1;32m     10\u001b[0m   \u001b[38;5;28mprint\u001b[39m(kwargs)\n",
      "\u001b[0;31mNameError\u001b[0m: name 'kwargs' is not defined"
     ]
    }
   ],
   "source": [
    "multiply(1,2,3,4,5,6,7,8,9,10,12)"
   ]
  },
  {
   "cell_type": "code",
   "execution_count": 15,
   "id": "7b245024-13b9-4a05-9d4f-682311b1eecc",
   "metadata": {},
   "outputs": [],
   "source": [
    "# **kwargs\n",
    "# **kwargs allows us to pass any number of keyword arguments.\n",
    "# Keyword arguments mean that they contain a key-value pair, like a Python dictionary.\n",
    "\n",
    "def display(**salman):\n",
    "\n",
    "  for (key,value) in salman.items():\n",
    "    print(key,'->',value)\n",
    "     "
   ]
  },
  {
   "cell_type": "code",
   "execution_count": 16,
   "id": "e083aad2-f7f8-4b12-8f79-5d8d03d19128",
   "metadata": {},
   "outputs": [
    {
     "name": "stdout",
     "output_type": "stream",
     "text": [
      "india -> delhi\n",
      "srilanka -> colombo\n",
      "nepal -> kathmandu\n",
      "pakistan -> islamabad\n"
     ]
    }
   ],
   "source": [
    "display(india='delhi',srilanka='colombo',nepal='kathmandu',pakistan='islamabad')"
   ]
  },
  {
   "cell_type": "markdown",
   "id": "4b1f9896-637e-4666-b53f-a359800b3a00",
   "metadata": {},
   "source": [
    "Ans(3) - In Python, an iterator is an object that enables iteration over a container or a sequence of elements. It provides a way to access the elements of a collection one at a time without having to know the underlying structure of the collection."
   ]
  },
  {
   "cell_type": "code",
   "execution_count": 17,
   "id": "27782c40-b809-4433-a6bd-b341c5b84f59",
   "metadata": {},
   "outputs": [
    {
     "name": "stdout",
     "output_type": "stream",
     "text": [
      "2\n",
      "4\n",
      "6\n",
      "8\n",
      "10\n"
     ]
    }
   ],
   "source": [
    "my_list = [2, 4, 6, 8, 10, 12, 14, 16, 18, 20]\n",
    "my_iterator = iter(my_list)\n",
    "\n",
    "for _ in range(5):\n",
    "    element = next(my_iterator)\n",
    "    print(element)\n"
   ]
  },
  {
   "cell_type": "markdown",
   "id": "e493b5cc-aa6b-4ece-ba01-478623f3a87b",
   "metadata": {},
   "source": [
    "Ans(4) - In Python, a generator function is a special type of function that generates a sequence of values using the yield keyword instead of return. When a generator function is called, it returns an iterator that can be iterated over to retrieve the generated values one at a time. Unlike regular functions, which return a value and then terminate, generator functions can yield multiple values across multiple invocations, maintaining their internal state between each yield."
   ]
  },
  {
   "cell_type": "code",
   "execution_count": 18,
   "id": "12e5b2cc-7c0f-4b7c-87eb-11ffb147969a",
   "metadata": {},
   "outputs": [
    {
     "name": "stdout",
     "output_type": "stream",
     "text": [
      "0\n",
      "2\n",
      "4\n",
      "6\n",
      "8\n"
     ]
    }
   ],
   "source": [
    "def even_numbers():\n",
    "    num = 0\n",
    "    while True:\n",
    "        yield num\n",
    "        num += 2\n",
    "\n",
    "# Create a generator object\n",
    "even_gen = even_numbers()\n",
    "\n",
    "# Retrieve and print the first five even numbers\n",
    "for _ in range(5):\n",
    "    print(next(even_gen))"
   ]
  },
  {
   "cell_type": "code",
   "execution_count": 23,
   "id": "bc9abaf0-287a-4683-8aba-80d76d30f990",
   "metadata": {},
   "outputs": [],
   "source": [
    "##Q5\n",
    "def prime_generator():\n",
    "    primes = []\n",
    "    num = 2\n",
    "\n",
    "    while True:\n",
    "        is_prime = True\n",
    "\n",
    "        for prime in primes:\n",
    "            if prime * prime > num:\n",
    "                break\n",
    "            if num % prime == 0:\n",
    "                is_prime = False\n",
    "                break\n",
    "\n",
    "        if is_prime:\n",
    "            primes.append(num)\n",
    "            yield num\n",
    "\n",
    "        num += 1"
   ]
  },
  {
   "cell_type": "code",
   "execution_count": 20,
   "id": "e19b50e1-0c4f-48a8-a0cd-39106c82d7ec",
   "metadata": {},
   "outputs": [
    {
     "name": "stdout",
     "output_type": "stream",
     "text": [
      "2\n",
      "3\n",
      "5\n",
      "7\n",
      "11\n",
      "13\n",
      "17\n",
      "19\n",
      "23\n",
      "29\n",
      "31\n",
      "37\n",
      "41\n",
      "43\n",
      "47\n",
      "53\n",
      "59\n",
      "61\n",
      "67\n",
      "71\n"
     ]
    }
   ],
   "source": [
    "# Create a generator object\n",
    "prime_gen = prime_generator()\n",
    "\n",
    "# Print the first 20 prime numbers\n",
    "for _ in range(20):\n",
    "    print(next(prime_gen))"
   ]
  },
  {
   "cell_type": "code",
   "execution_count": 24,
   "id": "bc8f364b-6763-443f-af98-f2b961cdef4e",
   "metadata": {},
   "outputs": [
    {
     "name": "stdout",
     "output_type": "stream",
     "text": [
      "0\n",
      "1\n",
      "1\n",
      "2\n",
      "3\n",
      "5\n",
      "8\n",
      "13\n",
      "21\n",
      "34\n"
     ]
    }
   ],
   "source": [
    "##Q6\n",
    "def fibonacci_sequence(n):\n",
    "    fib_sequence = []\n",
    "    a, b = 0, 1\n",
    "\n",
    "    while len(fib_sequence) < n:\n",
    "        fib_sequence.append(a)\n",
    "        a, b = b, a + b\n",
    "\n",
    "    return fib_sequence\n",
    "\n",
    "# Print the first 10 Fibonacci numbers\n",
    "fibonacci_numbers = fibonacci_sequence(10)\n",
    "for num in fibonacci_numbers:\n",
    "    print(num)\n"
   ]
  },
  {
   "cell_type": "code",
   "execution_count": 22,
   "id": "758950be-c125-4fa1-b8f0-ebf0ea4ed9f6",
   "metadata": {},
   "outputs": [
    {
     "name": "stdout",
     "output_type": "stream",
     "text": [
      "['p', 'w', 's', 'k', 'i', 'l', 'l', 's']\n"
     ]
    }
   ],
   "source": [
    "##Q7\n",
    "string = 'pwskills'\n",
    "result = [char for char in string]\n",
    "print(result)\n"
   ]
  },
  {
   "cell_type": "code",
   "execution_count": 26,
   "id": "0c091890-16e4-401d-b661-b503b1087256",
   "metadata": {},
   "outputs": [
    {
     "name": "stdin",
     "output_type": "stream",
     "text": [
      "Enter a number:  54\n"
     ]
    },
    {
     "name": "stdout",
     "output_type": "stream",
     "text": [
      "54 is not a palindrome.\n"
     ]
    }
   ],
   "source": [
    "##Q8\n",
    "def is_palindrome(number):\n",
    "    original_number = number\n",
    "    reversed_number = 0\n",
    "\n",
    "    while number > 0:\n",
    "        digit = number % 10\n",
    "        reversed_number = (reversed_number * 10) + digit\n",
    "        number //= 10\n",
    "\n",
    "    if original_number == reversed_number:\n",
    "        return True\n",
    "    else:\n",
    "        return False\n",
    "\n",
    "# Test the program\n",
    "num = int(input(\"Enter a number: \"))\n",
    "\n",
    "if is_palindrome(num):\n",
    "    print(f\"{num} is a palindrome.\")\n",
    "else:\n",
    "    print(f\"{num} is not a palindrome.\")\n",
    "\n",
    "     "
   ]
  },
  {
   "cell_type": "code",
   "execution_count": 27,
   "id": "5bcbc224-78ec-4172-900b-8ed337c6385c",
   "metadata": {},
   "outputs": [
    {
     "name": "stdout",
     "output_type": "stream",
     "text": [
      "[1, 3, 5, 7, 9, 11, 13, 15, 17, 19, 21, 23, 25, 27, 29, 31, 33, 35, 37, 39, 41, 43, 45, 47, 49, 51, 53, 55, 57, 59, 61, 63, 65, 67, 69, 71, 73, 75, 77, 79, 81, 83, 85, 87, 89, 91, 93, 95, 97, 99]\n"
     ]
    }
   ],
   "source": [
    "##Q9\n",
    "odd_numbers = [num for num in range(1, 101) if num % 2 != 0]\n",
    "print(odd_numbers)\n"
   ]
  },
  {
   "cell_type": "code",
   "execution_count": null,
   "id": "4aed112c-5cbf-4ad3-a8ce-26f77c35ac06",
   "metadata": {},
   "outputs": [],
   "source": []
  }
 ],
 "metadata": {
  "kernelspec": {
   "display_name": "Python 3 (ipykernel)",
   "language": "python",
   "name": "python3"
  },
  "language_info": {
   "codemirror_mode": {
    "name": "ipython",
    "version": 3
   },
   "file_extension": ".py",
   "mimetype": "text/x-python",
   "name": "python",
   "nbconvert_exporter": "python",
   "pygments_lexer": "ipython3",
   "version": "3.10.8"
  }
 },
 "nbformat": 4,
 "nbformat_minor": 5
}
